{
 "cells": [
  {
   "cell_type": "markdown",
   "id": "a6406977-3d2f-41d1-a79c-a52d1a5a6033",
   "metadata": {},
   "source": [
    "# Shannon entropy"
   ]
  },
  {
   "cell_type": "markdown",
   "id": "76078677-9ad2-4983-a4c5-805e25d63c3d",
   "metadata": {},
   "source": [
    "import math\n",
    "from collections import Counter\n",
    "import pandas as pd"
   ]
  },
  {
   "cell_type": "code",
   "execution_count": 16,
   "id": "48e13161-3a14-41fb-a5f3-5d8e2ea0d918",
   "metadata": {},
   "outputs": [],
   "source": [
    "def shannon(data):\n",
    "    counts = Counter(data)\n",
    "    total_count = sum(counts.values())\n",
    "    entropy = 0.0\n",
    "    for count in counts.values():\n",
    "        probability = count/total_count\n",
    "        entropy-= probability*math.log2(probability)\n",
    "    return entropy"
   ]
  },
  {
   "cell_type": "code",
   "execution_count": 7,
   "id": "d8e97b4e-d13f-41bf-9cf8-b63c306e1b46",
   "metadata": {},
   "outputs": [],
   "source": [
    "df = pd.read_csv('/Users/sohan/Desktop/Pattern-Recognition-Lab/data/Titanic-Dataset.csv')"
   ]
  },
  {
   "cell_type": "code",
   "execution_count": 8,
   "id": "cee89a11-c256-4a33-a434-5d91b9f46df5",
   "metadata": {},
   "outputs": [
    {
     "data": {
      "text/html": [
       "<div>\n",
       "<style scoped>\n",
       "    .dataframe tbody tr th:only-of-type {\n",
       "        vertical-align: middle;\n",
       "    }\n",
       "\n",
       "    .dataframe tbody tr th {\n",
       "        vertical-align: top;\n",
       "    }\n",
       "\n",
       "    .dataframe thead th {\n",
       "        text-align: right;\n",
       "    }\n",
       "</style>\n",
       "<table border=\"1\" class=\"dataframe\">\n",
       "  <thead>\n",
       "    <tr style=\"text-align: right;\">\n",
       "      <th></th>\n",
       "      <th>PassengerId</th>\n",
       "      <th>Survived</th>\n",
       "      <th>Pclass</th>\n",
       "      <th>Name</th>\n",
       "      <th>Sex</th>\n",
       "      <th>Age</th>\n",
       "      <th>SibSp</th>\n",
       "      <th>Parch</th>\n",
       "      <th>Ticket</th>\n",
       "      <th>Fare</th>\n",
       "      <th>Cabin</th>\n",
       "      <th>Embarked</th>\n",
       "    </tr>\n",
       "  </thead>\n",
       "  <tbody>\n",
       "    <tr>\n",
       "      <th>0</th>\n",
       "      <td>1</td>\n",
       "      <td>0</td>\n",
       "      <td>3</td>\n",
       "      <td>Braund, Mr. Owen Harris</td>\n",
       "      <td>male</td>\n",
       "      <td>22.0</td>\n",
       "      <td>1</td>\n",
       "      <td>0</td>\n",
       "      <td>A/5 21171</td>\n",
       "      <td>7.2500</td>\n",
       "      <td>NaN</td>\n",
       "      <td>S</td>\n",
       "    </tr>\n",
       "    <tr>\n",
       "      <th>1</th>\n",
       "      <td>2</td>\n",
       "      <td>1</td>\n",
       "      <td>1</td>\n",
       "      <td>Cumings, Mrs. John Bradley (Florence Briggs Th...</td>\n",
       "      <td>female</td>\n",
       "      <td>38.0</td>\n",
       "      <td>1</td>\n",
       "      <td>0</td>\n",
       "      <td>PC 17599</td>\n",
       "      <td>71.2833</td>\n",
       "      <td>C85</td>\n",
       "      <td>C</td>\n",
       "    </tr>\n",
       "    <tr>\n",
       "      <th>2</th>\n",
       "      <td>3</td>\n",
       "      <td>1</td>\n",
       "      <td>3</td>\n",
       "      <td>Heikkinen, Miss. Laina</td>\n",
       "      <td>female</td>\n",
       "      <td>26.0</td>\n",
       "      <td>0</td>\n",
       "      <td>0</td>\n",
       "      <td>STON/O2. 3101282</td>\n",
       "      <td>7.9250</td>\n",
       "      <td>NaN</td>\n",
       "      <td>S</td>\n",
       "    </tr>\n",
       "    <tr>\n",
       "      <th>3</th>\n",
       "      <td>4</td>\n",
       "      <td>1</td>\n",
       "      <td>1</td>\n",
       "      <td>Futrelle, Mrs. Jacques Heath (Lily May Peel)</td>\n",
       "      <td>female</td>\n",
       "      <td>35.0</td>\n",
       "      <td>1</td>\n",
       "      <td>0</td>\n",
       "      <td>113803</td>\n",
       "      <td>53.1000</td>\n",
       "      <td>C123</td>\n",
       "      <td>S</td>\n",
       "    </tr>\n",
       "    <tr>\n",
       "      <th>4</th>\n",
       "      <td>5</td>\n",
       "      <td>0</td>\n",
       "      <td>3</td>\n",
       "      <td>Allen, Mr. William Henry</td>\n",
       "      <td>male</td>\n",
       "      <td>35.0</td>\n",
       "      <td>0</td>\n",
       "      <td>0</td>\n",
       "      <td>373450</td>\n",
       "      <td>8.0500</td>\n",
       "      <td>NaN</td>\n",
       "      <td>S</td>\n",
       "    </tr>\n",
       "    <tr>\n",
       "      <th>...</th>\n",
       "      <td>...</td>\n",
       "      <td>...</td>\n",
       "      <td>...</td>\n",
       "      <td>...</td>\n",
       "      <td>...</td>\n",
       "      <td>...</td>\n",
       "      <td>...</td>\n",
       "      <td>...</td>\n",
       "      <td>...</td>\n",
       "      <td>...</td>\n",
       "      <td>...</td>\n",
       "      <td>...</td>\n",
       "    </tr>\n",
       "    <tr>\n",
       "      <th>886</th>\n",
       "      <td>887</td>\n",
       "      <td>0</td>\n",
       "      <td>2</td>\n",
       "      <td>Montvila, Rev. Juozas</td>\n",
       "      <td>male</td>\n",
       "      <td>27.0</td>\n",
       "      <td>0</td>\n",
       "      <td>0</td>\n",
       "      <td>211536</td>\n",
       "      <td>13.0000</td>\n",
       "      <td>NaN</td>\n",
       "      <td>S</td>\n",
       "    </tr>\n",
       "    <tr>\n",
       "      <th>887</th>\n",
       "      <td>888</td>\n",
       "      <td>1</td>\n",
       "      <td>1</td>\n",
       "      <td>Graham, Miss. Margaret Edith</td>\n",
       "      <td>female</td>\n",
       "      <td>19.0</td>\n",
       "      <td>0</td>\n",
       "      <td>0</td>\n",
       "      <td>112053</td>\n",
       "      <td>30.0000</td>\n",
       "      <td>B42</td>\n",
       "      <td>S</td>\n",
       "    </tr>\n",
       "    <tr>\n",
       "      <th>888</th>\n",
       "      <td>889</td>\n",
       "      <td>0</td>\n",
       "      <td>3</td>\n",
       "      <td>Johnston, Miss. Catherine Helen \"Carrie\"</td>\n",
       "      <td>female</td>\n",
       "      <td>NaN</td>\n",
       "      <td>1</td>\n",
       "      <td>2</td>\n",
       "      <td>W./C. 6607</td>\n",
       "      <td>23.4500</td>\n",
       "      <td>NaN</td>\n",
       "      <td>S</td>\n",
       "    </tr>\n",
       "    <tr>\n",
       "      <th>889</th>\n",
       "      <td>890</td>\n",
       "      <td>1</td>\n",
       "      <td>1</td>\n",
       "      <td>Behr, Mr. Karl Howell</td>\n",
       "      <td>male</td>\n",
       "      <td>26.0</td>\n",
       "      <td>0</td>\n",
       "      <td>0</td>\n",
       "      <td>111369</td>\n",
       "      <td>30.0000</td>\n",
       "      <td>C148</td>\n",
       "      <td>C</td>\n",
       "    </tr>\n",
       "    <tr>\n",
       "      <th>890</th>\n",
       "      <td>891</td>\n",
       "      <td>0</td>\n",
       "      <td>3</td>\n",
       "      <td>Dooley, Mr. Patrick</td>\n",
       "      <td>male</td>\n",
       "      <td>32.0</td>\n",
       "      <td>0</td>\n",
       "      <td>0</td>\n",
       "      <td>370376</td>\n",
       "      <td>7.7500</td>\n",
       "      <td>NaN</td>\n",
       "      <td>Q</td>\n",
       "    </tr>\n",
       "  </tbody>\n",
       "</table>\n",
       "<p>891 rows × 12 columns</p>\n",
       "</div>"
      ],
      "text/plain": [
       "     PassengerId  Survived  Pclass  \\\n",
       "0              1         0       3   \n",
       "1              2         1       1   \n",
       "2              3         1       3   \n",
       "3              4         1       1   \n",
       "4              5         0       3   \n",
       "..           ...       ...     ...   \n",
       "886          887         0       2   \n",
       "887          888         1       1   \n",
       "888          889         0       3   \n",
       "889          890         1       1   \n",
       "890          891         0       3   \n",
       "\n",
       "                                                  Name     Sex   Age  SibSp  \\\n",
       "0                              Braund, Mr. Owen Harris    male  22.0      1   \n",
       "1    Cumings, Mrs. John Bradley (Florence Briggs Th...  female  38.0      1   \n",
       "2                               Heikkinen, Miss. Laina  female  26.0      0   \n",
       "3         Futrelle, Mrs. Jacques Heath (Lily May Peel)  female  35.0      1   \n",
       "4                             Allen, Mr. William Henry    male  35.0      0   \n",
       "..                                                 ...     ...   ...    ...   \n",
       "886                              Montvila, Rev. Juozas    male  27.0      0   \n",
       "887                       Graham, Miss. Margaret Edith  female  19.0      0   \n",
       "888           Johnston, Miss. Catherine Helen \"Carrie\"  female   NaN      1   \n",
       "889                              Behr, Mr. Karl Howell    male  26.0      0   \n",
       "890                                Dooley, Mr. Patrick    male  32.0      0   \n",
       "\n",
       "     Parch            Ticket     Fare Cabin Embarked  \n",
       "0        0         A/5 21171   7.2500   NaN        S  \n",
       "1        0          PC 17599  71.2833   C85        C  \n",
       "2        0  STON/O2. 3101282   7.9250   NaN        S  \n",
       "3        0            113803  53.1000  C123        S  \n",
       "4        0            373450   8.0500   NaN        S  \n",
       "..     ...               ...      ...   ...      ...  \n",
       "886      0            211536  13.0000   NaN        S  \n",
       "887      0            112053  30.0000   B42        S  \n",
       "888      2        W./C. 6607  23.4500   NaN        S  \n",
       "889      0            111369  30.0000  C148        C  \n",
       "890      0            370376   7.7500   NaN        Q  \n",
       "\n",
       "[891 rows x 12 columns]"
      ]
     },
     "execution_count": 8,
     "metadata": {},
     "output_type": "execute_result"
    }
   ],
   "source": [
    "df"
   ]
  },
  {
   "cell_type": "code",
   "execution_count": 17,
   "id": "2638785e-b8a4-43ef-a186-f0e17aae5fe8",
   "metadata": {},
   "outputs": [
    {
     "name": "stdout",
     "output_type": "stream",
     "text": [
      "Available columns in Titanic dataset: \n",
      "['PassengerId', 'Survived', 'Pclass', 'Name', 'Sex', 'Age', 'SibSp', 'Parch', 'Ticket', 'Fare', 'Cabin', 'Embarked']\n"
     ]
    }
   ],
   "source": [
    "print(\"Available columns in Titanic dataset: \")\n",
    "print(df.columns.tolist())"
   ]
  },
  {
   "cell_type": "code",
   "execution_count": 19,
   "id": "89c531c3-0c26-4428-a8f4-02e163789ff7",
   "metadata": {},
   "outputs": [
    {
     "name": "stdin",
     "output_type": "stream",
     "text": [
      "Enter the column name to calculate entropy:  Ticket\n"
     ]
    },
    {
     "name": "stdout",
     "output_type": "stream",
     "text": [
      "Shannon entropy of column Ticket: 9.233001378120738\n"
     ]
    }
   ],
   "source": [
    "column = input(\"Enter the column name to calculate entropy: \")\n",
    "if column in df.columns:\n",
    "    data = df[column]\n",
    "    entropy = shannon(data)\n",
    "    print(f\"Shannon entropy of column {column}: {entropy}\")\n",
    "else:\n",
    "    print(f\"{column} not found in dataset. Please try again\")"
   ]
  },
  {
   "cell_type": "markdown",
   "id": "53ee2970-10db-4655-9c2b-36fafa6c5838",
   "metadata": {},
   "source": [
    "# Mahalanobis distance"
   ]
  },
  {
   "cell_type": "code",
   "execution_count": 13,
   "id": "79974ad3-8cd6-4f6d-93b3-9783139d7a11",
   "metadata": {},
   "outputs": [],
   "source": [
    "import scipy"
   ]
  },
  {
   "cell_type": "code",
   "execution_count": 30,
   "id": "6cdc8476-31a6-4014-bba1-8d76820dbbe2",
   "metadata": {},
   "outputs": [],
   "source": [
    "import numpy as np\n",
    "from scipy.spatial.distance import mahalanobis"
   ]
  },
  {
   "cell_type": "code",
   "execution_count": 35,
   "id": "1c9cd716-2cba-4efe-8ea8-13564fa0de53",
   "metadata": {},
   "outputs": [
    {
     "data": {
      "text/plain": [
       "'\\ndef distance(polygon1, polygon2):\\n    poly1 = np.array(polygon1)\\n    poly2 =np.array(polygon2)\\n\\n    centroid1 = np.mean(poly1, axis=0)\\n    centroid2 = np.mean(poly2, axis=0)\\n\\n    combined = np.vstack((poly1, poly2))\\n    covariance = np.cov(combined.T)\\n    try:\\n        inv_matrix = np.linalg.inv(covariance)\\n    except np.linalg.LinAlgError:\\n        raise ValueError(\"Covariance matrix is singular and cannot be inverted\")\\n\\n    distance = mahalanobis(centroid1, centroid2, covariance)\\n    return distance\\n'"
      ]
     },
     "execution_count": 35,
     "metadata": {},
     "output_type": "execute_result"
    }
   ],
   "source": [
    "'''\n",
    "def distance(polygon1, polygon2):\n",
    "    poly1 = np.array(polygon1)\n",
    "    poly2 =np.array(polygon2)\n",
    "\n",
    "    centroid1 = np.mean(poly1, axis=0)\n",
    "    centroid2 = np.mean(poly2, axis=0)\n",
    "\n",
    "    combined = np.vstack((poly1, poly2))\n",
    "    covariance = np.cov(combined.T)\n",
    "    try:\n",
    "        inv_matrix = np.linalg.inv(covariance)\n",
    "    except np.linalg.LinAlgError:\n",
    "        raise ValueError(\"Covariance matrix is singular and cannot be inverted\")\n",
    "\n",
    "    distance = mahalanobis(centroid1, centroid2, covariance)\n",
    "    return distance\n",
    "'''"
   ]
  },
  {
   "cell_type": "code",
   "execution_count": 36,
   "id": "2c71f0ca-14d4-4a7a-a509-eeba13491ce8",
   "metadata": {},
   "outputs": [
    {
     "data": {
      "text/plain": [
       "'\\nif __name__ == \"__main__\":\\n    def poly_input(polygon):\\n        print(f\"Enter the coordinates of polygon {polygon}: \")\\n        points = input(\"Coordinates: \").strip().split(\",\")\\n        polygon = [tuple(map(float, point.strip().split())) for point in points]\\n        return polygon\\n\\n    try:\\n        polygon1 = poly_input(1)\\n        polygon2 = poly_input(2)\\n        distance = distance(polygon1, polygon2)\\n    except ValueError as e:\\n        print(e)\\n    except Exception as e:\\n        print(f\"An error occured: {e}\")\\n'"
      ]
     },
     "execution_count": 36,
     "metadata": {},
     "output_type": "execute_result"
    }
   ],
   "source": [
    "'''\n",
    "if __name__ == \"__main__\":\n",
    "    def poly_input(polygon):\n",
    "        print(f\"Enter the coordinates of polygon {polygon}: \")\n",
    "        points = input(\"Coordinates: \").strip().split(\",\")\n",
    "        polygon = [tuple(map(float, point.strip().split())) for point in points]\n",
    "        return polygon\n",
    "\n",
    "    try:\n",
    "        polygon1 = poly_input(1)\n",
    "        polygon2 = poly_input(2)\n",
    "        distance = distance(polygon1, polygon2)\n",
    "    except ValueError as e:\n",
    "        print(e)\n",
    "    except Exception as e:\n",
    "        print(f\"An error occured: {e}\")\n",
    "'''"
   ]
  },
  {
   "cell_type": "code",
   "execution_count": 34,
   "id": "a77e6e6f-2a26-403b-a4ab-0b8c221377cb",
   "metadata": {},
   "outputs": [
    {
     "name": "stdout",
     "output_type": "stream",
     "text": [
      "Enter the coordinates of polygon 1 (format: x1 y1, x2 y2, ...):\n"
     ]
    },
    {
     "name": "stdin",
     "output_type": "stream",
     "text": [
      "Coordinates:  1 2, 2 3, 3 5\n"
     ]
    },
    {
     "name": "stdout",
     "output_type": "stream",
     "text": [
      "Enter the coordinates of polygon 2 (format: x1 y1, x2 y2, ...):\n"
     ]
    },
    {
     "name": "stdin",
     "output_type": "stream",
     "text": [
      "Coordinates:  2 3, 3 4, 5 6\n"
     ]
    },
    {
     "name": "stdout",
     "output_type": "stream",
     "text": [
      "Mahalanobis Distance: 1.3548980744951002\n"
     ]
    }
   ],
   "source": [
    "import numpy as np\n",
    "from scipy.spatial.distance import mahalanobis\n",
    "\n",
    "def distance(polygon1, polygon2):\n",
    "    poly1 = np.array(polygon1)\n",
    "    poly2 = np.array(polygon2)\n",
    "\n",
    "    centroid1 = np.mean(poly1, axis=0)\n",
    "    centroid2 = np.mean(poly2, axis=0)\n",
    "\n",
    "    combined = np.vstack((poly1, poly2))\n",
    "    covariance = np.cov(combined.T)\n",
    "    \n",
    "    try:\n",
    "        inv_matrix = np.linalg.inv(covariance)\n",
    "    except np.linalg.LinAlgError:\n",
    "        raise ValueError(\"Covariance matrix is singular and cannot be inverted\")\n",
    "\n",
    "    dist = mahalanobis(centroid1, centroid2, inv_matrix)\n",
    "    return dist\n",
    "\n",
    "if __name__ == \"__main__\":\n",
    "    def poly_input(polygon):\n",
    "        print(f\"Enter the coordinates of polygon {polygon} (format: x1 y1, x2 y2, ...):\")\n",
    "        points = input(\"Coordinates: \").strip().split(\",\")\n",
    "        polygon = [tuple(map(float, point.strip().split())) for point in points]\n",
    "        return polygon\n",
    "\n",
    "    try:\n",
    "        polygon1 = poly_input(1)\n",
    "        polygon2 = poly_input(2)\n",
    "        dist = distance(polygon1, polygon2)\n",
    "        print(f\"Mahalanobis Distance: {dist}\")\n",
    "    except ValueError as e:\n",
    "        print(e)\n",
    "    except Exception as e:\n",
    "        print(f\"An error occurred: {e}\")"
   ]
  },
  {
   "cell_type": "code",
   "execution_count": null,
   "id": "97d50d3d-2528-4eae-a877-f00cb76e9dbc",
   "metadata": {},
   "outputs": [],
   "source": []
  }
 ],
 "metadata": {
  "kernelspec": {
   "display_name": "Python 3 (ipykernel)",
   "language": "python",
   "name": "python3"
  },
  "language_info": {
   "codemirror_mode": {
    "name": "ipython",
    "version": 3
   },
   "file_extension": ".py",
   "mimetype": "text/x-python",
   "name": "python",
   "nbconvert_exporter": "python",
   "pygments_lexer": "ipython3",
   "version": "3.12.4"
  }
 },
 "nbformat": 4,
 "nbformat_minor": 5
}
